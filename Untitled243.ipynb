{
  "nbformat": 4,
  "nbformat_minor": 0,
  "metadata": {
    "colab": {
      "name": "Untitled243.ipynb",
      "provenance": [],
      "collapsed_sections": []
    },
    "kernelspec": {
      "name": "python3",
      "display_name": "Python 3"
    },
    "accelerator": "GPU"
  },
  "cells": [
    {
      "cell_type": "code",
      "metadata": {
        "id": "OiG_707YviZW"
      },
      "source": [
        "!mkdir -p ~/.kaggle\r\n",
        "!cp kaggle.json ~/.kaggle/\r\n",
        "!chmod 600 ~/.kaggle/kaggle.json"
      ],
      "execution_count": 1,
      "outputs": []
    },
    {
      "cell_type": "code",
      "metadata": {
        "colab": {
          "base_uri": "https://localhost:8080/"
        },
        "id": "82OZ30ZXv0mx",
        "outputId": "124df8ec-bb28-4549-8bab-e4b41b9fdcdf"
      },
      "source": [
        "!kaggle datasets download -d iarunava/cell-images-for-detecting-malaria"
      ],
      "execution_count": 2,
      "outputs": [
        {
          "output_type": "stream",
          "text": [
            "Downloading cell-images-for-detecting-malaria.zip to /content\n",
            " 98% 665M/675M [00:06<00:00, 105MB/s]\n",
            "100% 675M/675M [00:06<00:00, 112MB/s]\n"
          ],
          "name": "stdout"
        }
      ]
    },
    {
      "cell_type": "code",
      "metadata": {
        "id": "TQIK9gg6wBWJ"
      },
      "source": [
        "import zipfile\r\n",
        "zip_ref = zipfile.ZipFile('cell-images-for-detecting-malaria.zip', 'r')\r\n",
        "zip_ref.extractall('files')\r\n",
        "zip_ref.close()"
      ],
      "execution_count": 3,
      "outputs": []
    },
    {
      "cell_type": "code",
      "metadata": {
        "id": "GoBS0LdXwHcT"
      },
      "source": [
        "import tensorflow as tf\r\n",
        "import pandas as pd\r\n",
        "import numpy as np\r\n",
        "import os\r\n",
        "from tensorflow.keras.preprocessing import image\r\n",
        "import matplotlib.pyplot as plt\r\n",
        "from tensorflow.keras.layers import Dense,GlobalAveragePooling2D,Dropout\r\n",
        "from tensorflow.keras.applications import VGG16\r\n",
        "from tensorflow.keras.preprocessing import image\r\n",
        "from tensorflow.keras.applications.mobilenet import preprocess_input\r\n",
        "from tensorflow.keras.preprocessing.image import ImageDataGenerator\r\n",
        "from tensorflow.keras.models import Model\r\n",
        "from tensorflow.keras.optimizers import Adam"
      ],
      "execution_count": 4,
      "outputs": []
    },
    {
      "cell_type": "code",
      "metadata": {
        "id": "bSVUYKDTwUy3"
      },
      "source": [
        "import tensorflow as tf\r\n",
        "from tensorflow.keras.optimizers import RMSprop\r\n",
        "from tensorflow.keras.preprocessing.image import ImageDataGenerator\r\n",
        "\r\n",
        "train_datagen =ImageDataGenerator(\r\n",
        "    preprocessing_function=preprocess_input,\r\n",
        "    rotation_range=40,\r\n",
        "    width_shift_range=0.2,\r\n",
        "    height_shift_range=0.2,\r\n",
        "    shear_range=0.2,\r\n",
        "    zoom_range=0.2,\r\n",
        "    horizontal_flip=True,\r\n",
        "    fill_mode='nearest', \r\n",
        "    validation_split=0.05\r\n",
        ")"
      ],
      "execution_count": 11,
      "outputs": []
    },
    {
      "cell_type": "code",
      "metadata": {
        "colab": {
          "base_uri": "https://localhost:8080/"
        },
        "id": "t4w1PlAFwXRF",
        "outputId": "4970aeec-8182-40f4-ae0a-16fe6b436de9"
      },
      "source": [
        "IMG_SIZE = 150\r\n",
        "\r\n",
        "train_generator = train_datagen.flow_from_directory(\r\n",
        "  '/content/files/cell_images/cell_images',            \r\n",
        "  target_size=(IMG_SIZE,IMG_SIZE),  \r\n",
        "  batch_size=32,\r\n",
        "  class_mode='binary',\r\n",
        "  subset = 'training')\r\n",
        "    \r\n",
        "validation_generator = train_datagen.flow_from_directory(\r\n",
        "  '/content/files/cell_images/cell_images',\r\n",
        "  target_size=(IMG_SIZE,IMG_SIZE),\r\n",
        "  batch_size=32,\r\n",
        "  class_mode='binary',\r\n",
        "  subset='validation')"
      ],
      "execution_count": 23,
      "outputs": [
        {
          "output_type": "stream",
          "text": [
            "Found 26182 images belonging to 2 classes.\n",
            "Found 1376 images belonging to 2 classes.\n"
          ],
          "name": "stdout"
        }
      ]
    },
    {
      "cell_type": "code",
      "metadata": {
        "id": "BRWv_gVWwkmL"
      },
      "source": [
        "inputs = tf.keras.layers.Input(shape=(IMG_SIZE,IMG_SIZE,3))\r\n",
        "x = tf.keras.layers.Conv2D(32, (3,3), activation='relu')(inputs)\r\n",
        "x = tf.keras.layers.MaxPooling2D(2, 2)(x)\r\n",
        "x = tf.keras.layers.Dropout(0.5)(x)\r\n",
        "x = tf.keras.layers.Conv2D(50, (3,3), activation='relu')(x)\r\n",
        "x = tf.keras.layers.MaxPooling2D(2,2)(x)\r\n",
        "x = tf.keras.layers.BatchNormalization()(x)\r\n",
        "x = tf.keras.layers.Activation('relu')(x)\r\n",
        "\r\n",
        "# Branch 1!\r\n",
        "x1 = tf.keras.layers.Conv2D(64, (3,3), activation='elu')(x)\r\n",
        "x1 = tf.keras.layers.MaxPooling2D(2,2)(x1)\r\n",
        "x1 = tf.keras.layers.Conv2D(128, (3,3), activation='elu')(x1)\r\n",
        "x1 = tf.keras.layers.MaxPooling2D(2,2)(x1)\r\n",
        "x1 = tf.keras.layers.Dropout(0.4)(x1)\r\n",
        "x1 = tf.keras.layers.Conv2D(128, (3,3), activation='elu')(x1)\r\n",
        "x1 = tf.keras.layers.MaxPooling2D(2,2)(x1)\r\n",
        "x1 = tf.keras.layers.BatchNormalization()(x1)\r\n",
        "x1 = tf.keras.layers.Activation('relu')(x1)\r\n",
        "\r\n",
        "\r\n",
        "# Branch 2!\r\n",
        "x2 = tf.keras.layers.Conv2D(128, (3,3), activation='relu')(x)\r\n",
        "x2 = tf.keras.layers.MaxPooling2D(2,2)(x2)\r\n",
        "x2 = tf.keras.layers.BatchNormalization()(x2)\r\n",
        "x2 = tf.keras.layers.Activation('relu')(x2)\r\n",
        "x2 = tf.keras.layers.BatchNormalization()(x2)\r\n",
        "x2 = tf.keras.layers.Conv2D(128, (3,3), activation='relu')(x2)\r\n",
        "x2 = tf.keras.layers.MaxPooling2D(2,2)(x2)\r\n",
        "x2 = tf.keras.layers.Conv2D(128, (3,3), activation='relu')(x2)\r\n",
        "x2 = tf.keras.layers.MaxPooling2D(2,2)(x2)\r\n",
        "x2 = tf.keras.layers.BatchNormalization()(x2)\r\n",
        "x2 = tf.keras.layers.BatchNormalization()(x2)\r\n",
        "x2 = tf.keras.layers.BatchNormalization()(x2)\r\n",
        "x2 = tf.keras.layers.BatchNormalization()(x2)\r\n",
        "x2 = tf.keras.layers.BatchNormalization()(x2)\r\n",
        "x2 = tf.keras.layers.Activation('relu')(x2)\r\n",
        "x2 = tf.keras.layers.Activation('elu')(x2)\r\n",
        "x2 = tf.keras.layers.Activation('selu')(x2)\r\n",
        "x2 = tf.keras.layers.Activation('tanh')(x2)\r\n",
        "x2 = tf.keras.layers.Activation('exponential')(x2)\r\n",
        "x2 = tf.keras.layers.Activation('relu')(x2)\r\n",
        "\r\n",
        "# Total layer\r\n",
        "sum_layer = tf.keras.layers.Concatenate()([x1,x2])\r\n",
        "\r\n",
        "\r\n",
        "x3 = tf.keras.layers.Flatten()(sum_layer)\r\n",
        "x3 = x3 = tf.keras.layers.Dropout(0.5)(x3)\r\n",
        "x3 = tf.keras.layers.Dense(512, activation='relu')(x3)\r\n",
        "outputs = tf.keras.layers.Dense(1, activation='sigmoid')(x3)\r\n",
        "model = tf.keras.Model(inputs=inputs, outputs=outputs)"
      ],
      "execution_count": 74,
      "outputs": []
    },
    {
      "cell_type": "code",
      "metadata": {
        "colab": {
          "base_uri": "https://localhost:8080/"
        },
        "id": "73JWD_WYF4lO",
        "outputId": "9fd2d502-b542-4ead-8299-d4d1134d6622"
      },
      "source": [
        "model.summary()"
      ],
      "execution_count": 72,
      "outputs": [
        {
          "output_type": "stream",
          "text": [
            "Model: \"model_13\"\n",
            "__________________________________________________________________________________________________\n",
            "Layer (type)                    Output Shape         Param #     Connected to                     \n",
            "==================================================================================================\n",
            "input_39 (InputLayer)           [(None, 150, 150, 3) 0                                            \n",
            "__________________________________________________________________________________________________\n",
            "conv2d_283 (Conv2D)             (None, 148, 148, 32) 896         input_39[0][0]                   \n",
            "__________________________________________________________________________________________________\n",
            "max_pooling2d_256 (MaxPooling2D (None, 74, 74, 32)   0           conv2d_283[0][0]                 \n",
            "__________________________________________________________________________________________________\n",
            "dropout_72 (Dropout)            (None, 74, 74, 32)   0           max_pooling2d_256[0][0]          \n",
            "__________________________________________________________________________________________________\n",
            "conv2d_284 (Conv2D)             (None, 72, 72, 50)   14450       dropout_72[0][0]                 \n",
            "__________________________________________________________________________________________________\n",
            "max_pooling2d_257 (MaxPooling2D (None, 36, 36, 50)   0           conv2d_284[0][0]                 \n",
            "__________________________________________________________________________________________________\n",
            "batch_normalization_32 (BatchNo (None, 36, 36, 50)   200         max_pooling2d_257[0][0]          \n",
            "__________________________________________________________________________________________________\n",
            "activation_25 (Activation)      (None, 36, 36, 50)   0           batch_normalization_32[0][0]     \n",
            "__________________________________________________________________________________________________\n",
            "conv2d_288 (Conv2D)             (None, 34, 34, 128)  57728       activation_25[0][0]              \n",
            "__________________________________________________________________________________________________\n",
            "conv2d_285 (Conv2D)             (None, 34, 34, 64)   28864       activation_25[0][0]              \n",
            "__________________________________________________________________________________________________\n",
            "max_pooling2d_261 (MaxPooling2D (None, 17, 17, 128)  0           conv2d_288[0][0]                 \n",
            "__________________________________________________________________________________________________\n",
            "max_pooling2d_258 (MaxPooling2D (None, 17, 17, 64)   0           conv2d_285[0][0]                 \n",
            "__________________________________________________________________________________________________\n",
            "batch_normalization_34 (BatchNo (None, 17, 17, 128)  512         max_pooling2d_261[0][0]          \n",
            "__________________________________________________________________________________________________\n",
            "conv2d_286 (Conv2D)             (None, 15, 15, 128)  73856       max_pooling2d_258[0][0]          \n",
            "__________________________________________________________________________________________________\n",
            "activation_27 (Activation)      (None, 17, 17, 128)  0           batch_normalization_34[0][0]     \n",
            "__________________________________________________________________________________________________\n",
            "max_pooling2d_259 (MaxPooling2D (None, 7, 7, 128)    0           conv2d_286[0][0]                 \n",
            "__________________________________________________________________________________________________\n",
            "batch_normalization_35 (BatchNo (None, 17, 17, 128)  512         activation_27[0][0]              \n",
            "__________________________________________________________________________________________________\n",
            "dropout_73 (Dropout)            (None, 7, 7, 128)    0           max_pooling2d_259[0][0]          \n",
            "__________________________________________________________________________________________________\n",
            "conv2d_289 (Conv2D)             (None, 15, 15, 128)  147584      batch_normalization_35[0][0]     \n",
            "__________________________________________________________________________________________________\n",
            "conv2d_287 (Conv2D)             (None, 5, 5, 128)    147584      dropout_73[0][0]                 \n",
            "__________________________________________________________________________________________________\n",
            "max_pooling2d_262 (MaxPooling2D (None, 7, 7, 128)    0           conv2d_289[0][0]                 \n",
            "__________________________________________________________________________________________________\n",
            "max_pooling2d_260 (MaxPooling2D (None, 2, 2, 128)    0           conv2d_287[0][0]                 \n",
            "__________________________________________________________________________________________________\n",
            "conv2d_290 (Conv2D)             (None, 5, 5, 128)    147584      max_pooling2d_262[0][0]          \n",
            "__________________________________________________________________________________________________\n",
            "batch_normalization_33 (BatchNo (None, 2, 2, 128)    512         max_pooling2d_260[0][0]          \n",
            "__________________________________________________________________________________________________\n",
            "max_pooling2d_263 (MaxPooling2D (None, 2, 2, 128)    0           conv2d_290[0][0]                 \n",
            "__________________________________________________________________________________________________\n",
            "activation_26 (Activation)      (None, 2, 2, 128)    0           batch_normalization_33[0][0]     \n",
            "__________________________________________________________________________________________________\n",
            "batch_normalization_36 (BatchNo (None, 2, 2, 128)    512         max_pooling2d_263[0][0]          \n",
            "__________________________________________________________________________________________________\n",
            "concatenate_23 (Concatenate)    (None, 2, 2, 256)    0           activation_26[0][0]              \n",
            "                                                                 batch_normalization_36[0][0]     \n",
            "__________________________________________________________________________________________________\n",
            "flatten_13 (Flatten)            (None, 1024)         0           concatenate_23[0][0]             \n",
            "__________________________________________________________________________________________________\n",
            "dropout_74 (Dropout)            (None, 1024)         0           flatten_13[0][0]                 \n",
            "__________________________________________________________________________________________________\n",
            "dense_26 (Dense)                (None, 512)          524800      dropout_74[0][0]                 \n",
            "__________________________________________________________________________________________________\n",
            "dense_27 (Dense)                (None, 1)            513         dense_26[0][0]                   \n",
            "==================================================================================================\n",
            "Total params: 1,146,107\n",
            "Trainable params: 1,144,983\n",
            "Non-trainable params: 1,124\n",
            "__________________________________________________________________________________________________\n"
          ],
          "name": "stdout"
        }
      ]
    },
    {
      "cell_type": "code",
      "metadata": {
        "id": "IUQnePc0xWjo"
      },
      "source": [
        "model.compile(optimizer='adam',\r\n",
        "              loss='binary_crossentropy',\r\n",
        "              metrics=['accuracy'])"
      ],
      "execution_count": 76,
      "outputs": []
    },
    {
      "cell_type": "code",
      "metadata": {
        "id": "8wVI2D-8xAGh"
      },
      "source": [
        "class myCallback(tf.keras.callbacks.Callback):\r\n",
        "  def on_epoch_end(self, epoch, logs={}):\r\n",
        "    if(logs.get('accuracy') > 0.95):\r\n",
        "      print(\"\\nAccuracy better than target training!\")\r\n",
        "      self.model.stop_training = True\r\n",
        "\r\n",
        "callbacks = myCallback()"
      ],
      "execution_count": 77,
      "outputs": []
    },
    {
      "cell_type": "code",
      "metadata": {
        "colab": {
          "base_uri": "https://localhost:8080/"
        },
        "id": "4Ccr9WxaxG8N",
        "outputId": "2a96aec8-389c-415b-d500-a918fce0e93b"
      },
      "source": [
        "%%time\r\n",
        "history = model.fit(\r\n",
        "    train_generator,\r\n",
        "    epochs = 8, # Actually you need 30 epochs!\r\n",
        "    validation_data = validation_generator,\r\n",
        "    callbacks=[callbacks]\r\n",
        ")"
      ],
      "execution_count": 78,
      "outputs": [
        {
          "output_type": "stream",
          "text": [
            "Epoch 1/8\n",
            "819/819 [==============================] - 161s 195ms/step - loss: 0.6848 - accuracy: 0.6641 - val_loss: 0.2860 - val_accuracy: 0.9004\n",
            "Epoch 2/8\n",
            "819/819 [==============================] - 158s 193ms/step - loss: 0.3436 - accuracy: 0.8679 - val_loss: 0.2314 - val_accuracy: 0.9186\n",
            "Epoch 3/8\n",
            "819/819 [==============================] - 159s 194ms/step - loss: 0.3134 - accuracy: 0.8792 - val_loss: 0.2435 - val_accuracy: 0.9099\n",
            "Epoch 4/8\n",
            "819/819 [==============================] - 159s 194ms/step - loss: 0.2933 - accuracy: 0.8885 - val_loss: 0.2344 - val_accuracy: 0.9251\n",
            "Epoch 5/8\n",
            "819/819 [==============================] - 161s 196ms/step - loss: 0.2978 - accuracy: 0.8829 - val_loss: 0.1954 - val_accuracy: 0.9281\n",
            "Epoch 6/8\n",
            "819/819 [==============================] - 160s 195ms/step - loss: 0.2797 - accuracy: 0.8903 - val_loss: 0.2319 - val_accuracy: 0.9237\n",
            "Epoch 7/8\n",
            "819/819 [==============================] - 158s 193ms/step - loss: 0.2735 - accuracy: 0.8932 - val_loss: 0.2644 - val_accuracy: 0.8997\n",
            "Epoch 8/8\n",
            "819/819 [==============================] - 159s 194ms/step - loss: 0.2729 - accuracy: 0.8939 - val_loss: 0.2041 - val_accuracy: 0.9281\n",
            "CPU times: user 23min 53s, sys: 1min 45s, total: 25min 38s\n",
            "Wall time: 21min 14s\n"
          ],
          "name": "stdout"
        }
      ]
    },
    {
      "cell_type": "code",
      "metadata": {
        "colab": {
          "base_uri": "https://localhost:8080/",
          "height": 573
        },
        "id": "IjpezTr0xS_J",
        "outputId": "05204e8d-36f5-4daf-b533-cb605ccbe7bf"
      },
      "source": [
        "import matplotlib.pyplot as plt\r\n",
        "plt.plot(history.history['accuracy'])\r\n",
        "plt.plot(history.history['val_accuracy'])\r\n",
        "plt.title('Accuracy Model')\r\n",
        "plt.ylabel('accuracy')\r\n",
        "plt.xlabel('epoch')\r\n",
        "plt.legend(['train', 'test'], loc='upper left')\r\n",
        "plt.show()\r\n",
        "\r\n",
        "plt.plot(history.history['loss'])\r\n",
        "plt.plot(history.history['val_loss'])\r\n",
        "plt.title('Loss Model')\r\n",
        "plt.ylabel('loss')\r\n",
        "plt.xlabel('epoch')\r\n",
        "plt.legend(['train', 'test'], loc='upper left')\r\n",
        "plt.show()"
      ],
      "execution_count": 84,
      "outputs": [
        {
          "output_type": "display_data",
          "data": {
            "image/png": "[encoded data removed]",
            "text/plain": [
              "<Figure size 432x288 with 1 Axes>"
            ]
          },
          "metadata": {
            "tags": [],
            "needs_background": "light"
          }
        },
        {
          "output_type": "display_data",
          "data": {
            "image/png": "[encoded data removed]",
            "text/plain": [
              "<Figure size 432x288 with 1 Axes>"
            ]
          },
          "metadata": {
            "tags": [],
            "needs_background": "light"
          }
        }
      ]
    },
    {
      "cell_type": "code",
      "metadata": {
        "colab": {
          "base_uri": "https://localhost:8080/",
          "height": 952
        },
        "id": "YaRo0JxiOH9B",
        "outputId": "0843147e-defd-475f-d957-5c284d9ae3a2"
      },
      "source": [
        "converter = tf.lite.TFLiteConverter.from_keras_model(model)\r\n",
        "tflite_model = converter.convert()\r\n",
        "\r\n",
        "with tf.io.gfile.GFile('model.tflite', 'wb') as f:\r\n",
        "  f.write(tflite_model)"
      ],
      "execution_count": 88,
      "outputs": [
        {
          "output_type": "stream",
          "text": [
            "INFO:tensorflow:Assets written to: /tmp/tmpxltl3fz_/assets\n"
          ],
          "name": "stdout"
        },
        {
          "output_type": "stream",
          "text": [
            "INFO:tensorflow:Assets written to: /tmp/tmpxltl3fz_/assets\n"
          ],
          "name": "stderr"
        },
        {
          "output_type": "error",
          "ename": "ConverterError",
          "evalue": "ignored",
          "traceback": [
            "\u001b[0;31m---------------------------------------------------------------------------\u001b[0m",
            "\u001b[0;31mException\u001b[0m                                 Traceback (most recent call last)",
            "\u001b[0;32m/usr/local/lib/python3.7/dist-packages/tensorflow/lite/python/convert.py\u001b[0m in \u001b[0;36mtoco_convert_protos\u001b[0;34m(model_flags_str, toco_flags_str, input_data_str, debug_info_str, enable_mlir_converter)\u001b[0m\n\u001b[1;32m    212\u001b[0m                                                  \u001b[0mdebug_info_str\u001b[0m\u001b[0;34m,\u001b[0m\u001b[0;34m\u001b[0m\u001b[0;34m\u001b[0m\u001b[0m\n\u001b[0;32m--> 213\u001b[0;31m                                                  enable_mlir_converter)\n\u001b[0m\u001b[1;32m    214\u001b[0m       \u001b[0;32mreturn\u001b[0m \u001b[0mmodel_str\u001b[0m\u001b[0;34m\u001b[0m\u001b[0;34m\u001b[0m\u001b[0m\n",
            "\u001b[0;32m/usr/local/lib/python3.7/dist-packages/tensorflow/lite/python/wrap_toco.py\u001b[0m in \u001b[0;36mwrapped_toco_convert\u001b[0;34m(model_flags_str, toco_flags_str, input_data_str, debug_info_str, enable_mlir_converter)\u001b[0m\n\u001b[1;32m     37\u001b[0m       \u001b[0mdebug_info_str\u001b[0m\u001b[0;34m,\u001b[0m\u001b[0;34m\u001b[0m\u001b[0;34m\u001b[0m\u001b[0m\n\u001b[0;32m---> 38\u001b[0;31m       enable_mlir_converter)\n\u001b[0m\u001b[1;32m     39\u001b[0m \u001b[0;34m\u001b[0m\u001b[0m\n",
            "\u001b[0;31mException\u001b[0m: /usr/local/lib/python3.7/dist-packages/tensorflow/python/eager/def_function.py:1205:0: error: 'tf.Selu' op is neither a custom op nor a flex op\n/usr/local/lib/python3.7/dist-packages/tensorflow/python/eager/def_function.py:1299:0: note: called from\n/usr/local/lib/python3.7/dist-packages/tensorflow/lite/python/lite.py:847:0: note: called from\n<ipython-input-88-5b5f0f79c857>:2:0: note: called from\n/usr/local/lib/python3.7/dist-packages/IPython/core/interactiveshell.py:2882:0: note: called from\n/usr/local/lib/python3.7/dist-packages/IPython/core/interactiveshell.py:2822:0: note: called from\n/usr/local/lib/python3.7/dist-packages/IPython/core/interactiveshell.py:2718:0: note: called from\n/usr/local/lib/python3.7/dist-packages/ipykernel/zmqshell.py:537:0: note: called from\n/usr/local/lib/python3.7/dist-packages/ipykernel/ipkernel.py:208:0: note: called from\n/usr/local/lib/python3.7/dist-packages/ipykernel/kernelbase.py:399:0: note: called from\n<unknown>:0: error: failed while converting: 'main': Ops that can be supported by the flex runtime (enabled via setting the -emit-select-tf-ops flag):\n\ttf.Selu {device = \"\"}\n",
            "\nDuring handling of the above exception, another exception occurred:\n",
            "\u001b[0;31mConverterError\u001b[0m                            Traceback (most recent call last)",
            "\u001b[0;32m<ipython-input-88-5b5f0f79c857>\u001b[0m in \u001b[0;36m<module>\u001b[0;34m()\u001b[0m\n\u001b[1;32m      1\u001b[0m \u001b[0mconverter\u001b[0m \u001b[0;34m=\u001b[0m \u001b[0mtf\u001b[0m\u001b[0;34m.\u001b[0m\u001b[0mlite\u001b[0m\u001b[0;34m.\u001b[0m\u001b[0mTFLiteConverter\u001b[0m\u001b[0;34m.\u001b[0m\u001b[0mfrom_keras_model\u001b[0m\u001b[0;34m(\u001b[0m\u001b[0mmodel\u001b[0m\u001b[0;34m)\u001b[0m\u001b[0;34m\u001b[0m\u001b[0;34m\u001b[0m\u001b[0m\n\u001b[0;32m----> 2\u001b[0;31m \u001b[0mtflite_model\u001b[0m \u001b[0;34m=\u001b[0m \u001b[0mconverter\u001b[0m\u001b[0;34m.\u001b[0m\u001b[0mconvert\u001b[0m\u001b[0;34m(\u001b[0m\u001b[0;34m)\u001b[0m\u001b[0;34m\u001b[0m\u001b[0;34m\u001b[0m\u001b[0m\n\u001b[0m\u001b[1;32m      3\u001b[0m \u001b[0;34m\u001b[0m\u001b[0m\n\u001b[1;32m      4\u001b[0m \u001b[0;32mwith\u001b[0m \u001b[0mtf\u001b[0m\u001b[0;34m.\u001b[0m\u001b[0mio\u001b[0m\u001b[0;34m.\u001b[0m\u001b[0mgfile\u001b[0m\u001b[0;34m.\u001b[0m\u001b[0mGFile\u001b[0m\u001b[0;34m(\u001b[0m\u001b[0;34m'model.tflite'\u001b[0m\u001b[0;34m,\u001b[0m \u001b[0;34m'wb'\u001b[0m\u001b[0;34m)\u001b[0m \u001b[0;32mas\u001b[0m \u001b[0mf\u001b[0m\u001b[0;34m:\u001b[0m\u001b[0;34m\u001b[0m\u001b[0;34m\u001b[0m\u001b[0m\n\u001b[1;32m      5\u001b[0m   \u001b[0mf\u001b[0m\u001b[0;34m.\u001b[0m\u001b[0mwrite\u001b[0m\u001b[0;34m(\u001b[0m\u001b[0mtflite_model\u001b[0m\u001b[0;34m)\u001b[0m\u001b[0;34m\u001b[0m\u001b[0;34m\u001b[0m\u001b[0m\n",
            "\u001b[0;32m/usr/local/lib/python3.7/dist-packages/tensorflow/lite/python/lite.py\u001b[0m in \u001b[0;36mconvert\u001b[0;34m(self)\u001b[0m\n\u001b[1;32m    872\u001b[0m \u001b[0;34m\u001b[0m\u001b[0m\n\u001b[1;32m    873\u001b[0m     return super(TFLiteKerasModelConverterV2,\n\u001b[0;32m--> 874\u001b[0;31m                  self).convert(graph_def, input_tensors, output_tensors)\n\u001b[0m\u001b[1;32m    875\u001b[0m \u001b[0;34m\u001b[0m\u001b[0m\n\u001b[1;32m    876\u001b[0m \u001b[0;34m\u001b[0m\u001b[0m\n",
            "\u001b[0;32m/usr/local/lib/python3.7/dist-packages/tensorflow/lite/python/lite.py\u001b[0m in \u001b[0;36mconvert\u001b[0;34m(self, graph_def, input_tensors, output_tensors)\u001b[0m\n\u001b[1;32m    626\u001b[0m         \u001b[0minput_tensors\u001b[0m\u001b[0;34m=\u001b[0m\u001b[0minput_tensors\u001b[0m\u001b[0;34m,\u001b[0m\u001b[0;34m\u001b[0m\u001b[0;34m\u001b[0m\u001b[0m\n\u001b[1;32m    627\u001b[0m         \u001b[0moutput_tensors\u001b[0m\u001b[0;34m=\u001b[0m\u001b[0moutput_tensors\u001b[0m\u001b[0;34m,\u001b[0m\u001b[0;34m\u001b[0m\u001b[0;34m\u001b[0m\u001b[0m\n\u001b[0;32m--> 628\u001b[0;31m         **converter_kwargs)\n\u001b[0m\u001b[1;32m    629\u001b[0m \u001b[0;34m\u001b[0m\u001b[0m\n\u001b[1;32m    630\u001b[0m     \u001b[0mcalibrate_and_quantize\u001b[0m\u001b[0;34m,\u001b[0m \u001b[0mflags\u001b[0m \u001b[0;34m=\u001b[0m \u001b[0mquant_mode\u001b[0m\u001b[0;34m.\u001b[0m\u001b[0mquantizer_flags\u001b[0m\u001b[0;34m(\u001b[0m\u001b[0;34m)\u001b[0m\u001b[0;34m\u001b[0m\u001b[0;34m\u001b[0m\u001b[0m\n",
            "\u001b[0;32m/usr/local/lib/python3.7/dist-packages/tensorflow/lite/python/convert.py\u001b[0m in \u001b[0;36mtoco_convert_impl\u001b[0;34m(input_data, input_tensors, output_tensors, enable_mlir_converter, *args, **kwargs)\u001b[0m\n\u001b[1;32m    611\u001b[0m       \u001b[0minput_data\u001b[0m\u001b[0;34m.\u001b[0m\u001b[0mSerializeToString\u001b[0m\u001b[0;34m(\u001b[0m\u001b[0;34m)\u001b[0m\u001b[0;34m,\u001b[0m\u001b[0;34m\u001b[0m\u001b[0;34m\u001b[0m\u001b[0m\n\u001b[1;32m    612\u001b[0m       \u001b[0mdebug_info_str\u001b[0m\u001b[0;34m=\u001b[0m\u001b[0mdebug_info_str\u001b[0m\u001b[0;34m,\u001b[0m\u001b[0;34m\u001b[0m\u001b[0;34m\u001b[0m\u001b[0m\n\u001b[0;32m--> 613\u001b[0;31m       enable_mlir_converter=enable_mlir_converter)\n\u001b[0m\u001b[1;32m    614\u001b[0m   \u001b[0;32mreturn\u001b[0m \u001b[0mdata\u001b[0m\u001b[0;34m\u001b[0m\u001b[0;34m\u001b[0m\u001b[0m\n\u001b[1;32m    615\u001b[0m \u001b[0;34m\u001b[0m\u001b[0m\n",
            "\u001b[0;32m/usr/local/lib/python3.7/dist-packages/tensorflow/lite/python/convert.py\u001b[0m in \u001b[0;36mtoco_convert_protos\u001b[0;34m(model_flags_str, toco_flags_str, input_data_str, debug_info_str, enable_mlir_converter)\u001b[0m\n\u001b[1;32m    214\u001b[0m       \u001b[0;32mreturn\u001b[0m \u001b[0mmodel_str\u001b[0m\u001b[0;34m\u001b[0m\u001b[0;34m\u001b[0m\u001b[0m\n\u001b[1;32m    215\u001b[0m     \u001b[0;32mexcept\u001b[0m \u001b[0mException\u001b[0m \u001b[0;32mas\u001b[0m \u001b[0me\u001b[0m\u001b[0;34m:\u001b[0m\u001b[0;34m\u001b[0m\u001b[0;34m\u001b[0m\u001b[0m\n\u001b[0;32m--> 216\u001b[0;31m       \u001b[0;32mraise\u001b[0m \u001b[0mConverterError\u001b[0m\u001b[0;34m(\u001b[0m\u001b[0mstr\u001b[0m\u001b[0;34m(\u001b[0m\u001b[0me\u001b[0m\u001b[0;34m)\u001b[0m\u001b[0;34m)\u001b[0m\u001b[0;34m\u001b[0m\u001b[0;34m\u001b[0m\u001b[0m\n\u001b[0m\u001b[1;32m    217\u001b[0m \u001b[0;34m\u001b[0m\u001b[0m\n\u001b[1;32m    218\u001b[0m   \u001b[0;32mif\u001b[0m \u001b[0mdistutils\u001b[0m\u001b[0;34m.\u001b[0m\u001b[0mspawn\u001b[0m\u001b[0;34m.\u001b[0m\u001b[0mfind_executable\u001b[0m\u001b[0;34m(\u001b[0m\u001b[0m_toco_from_proto_bin\u001b[0m\u001b[0;34m)\u001b[0m \u001b[0;32mis\u001b[0m \u001b[0;32mNone\u001b[0m\u001b[0;34m:\u001b[0m\u001b[0;34m\u001b[0m\u001b[0;34m\u001b[0m\u001b[0m\n",
            "\u001b[0;31mConverterError\u001b[0m: /usr/local/lib/python3.7/dist-packages/tensorflow/python/eager/def_function.py:1205:0: error: 'tf.Selu' op is neither a custom op nor a flex op\n/usr/local/lib/python3.7/dist-packages/tensorflow/python/eager/def_function.py:1299:0: note: called from\n/usr/local/lib/python3.7/dist-packages/tensorflow/lite/python/lite.py:847:0: note: called from\n<ipython-input-88-5b5f0f79c857>:2:0: note: called from\n/usr/local/lib/python3.7/dist-packages/IPython/core/interactiveshell.py:2882:0: note: called from\n/usr/local/lib/python3.7/dist-packages/IPython/core/interactiveshell.py:2822:0: note: called from\n/usr/local/lib/python3.7/dist-packages/IPython/core/interactiveshell.py:2718:0: note: called from\n/usr/local/lib/python3.7/dist-packages/ipykernel/zmqshell.py:537:0: note: called from\n/usr/local/lib/python3.7/dist-packages/ipykernel/ipkernel.py:208:0: note: called from\n/usr/local/lib/python3.7/dist-packages/ipykernel/kernelbase.py:399:0: note: called from\n<unknown>:0: error: failed while converting: 'main': Ops that can be supported by the flex runtime (enabled via setting the -emit-select-tf-ops flag):\n\ttf.Selu {device = \"\"}\n"
          ]
        }
      ]
    },
    {
      "cell_type": "code",
      "metadata": {
        "id": "kSe5Kx-zQwgu"
      },
      "source": [
        ""
      ],
      "execution_count": null,
      "outputs": []
    }
  ]
}